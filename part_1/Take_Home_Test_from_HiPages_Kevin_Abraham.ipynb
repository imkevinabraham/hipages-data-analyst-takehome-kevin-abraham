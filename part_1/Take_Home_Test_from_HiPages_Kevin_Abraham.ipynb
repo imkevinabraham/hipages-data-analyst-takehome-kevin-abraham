{
  "nbformat": 4,
  "nbformat_minor": 0,
  "metadata": {
    "colab": {
      "provenance": []
    },
    "kernelspec": {
      "name": "python3",
      "display_name": "Python 3"
    },
    "language_info": {
      "name": "python"
    }
  },
  "cells": [
    {
      "cell_type": "markdown",
      "source": [
        "# Hipages Take‑Home Test — Part 1 (Kevin Abraham)\n",
        "\n",
        "**What this notebook covers**\n",
        "\n",
        "- **Task 1 — SQL Programming:**  \n",
        "  1) Names + number of messages sent by each user  \n",
        "  2) Total messages sent by weekday  \n",
        "  3) Most recent unanswered message per thread  \n",
        "  4) Conversation with the most messages (chronological order)\n",
        "**Brief:** See `Take Home Task - Data Analyst.docx.pdf` in repo.\n",
        "\n",
        "---\n",
        "\n",
        "## Approach\n",
        "- **Data:** Generated fake data using provided ERD\n",
        "- **SQL:** SQL lite style as running on colab.\n",
        "- **Python:** Queries are writen in SQL but run using python in pandas dataframes using SQLDF which runs a SQL-lite instance in the background\n",
        "\n",
        "---\n",
        "\n",
        "## How to run\n",
        "- **Data:** Upload into colab files the 3 csv in /datasets. Messages,Threads,Users.csv\n",
        "- **Run:** Click `Runtime` -> `Run all`"
      ],
      "metadata": {
        "id": "djU5ba7NiRWI"
      }
    },
    {
      "cell_type": "code",
      "execution_count": 27,
      "metadata": {
        "colab": {
          "base_uri": "https://localhost:8080/"
        },
        "id": "C6_2HAlhmsbN",
        "outputId": "130f77f0-ad06-4357-a342-0734d2239bc9"
      },
      "outputs": [
        {
          "output_type": "stream",
          "name": "stdout",
          "text": [
            "Requirement already satisfied: pandasql in /usr/local/lib/python3.12/dist-packages (0.7.3)\n",
            "Requirement already satisfied: numpy in /usr/local/lib/python3.12/dist-packages (from pandasql) (2.0.2)\n",
            "Requirement already satisfied: pandas in /usr/local/lib/python3.12/dist-packages (from pandasql) (2.2.2)\n",
            "Requirement already satisfied: sqlalchemy in /usr/local/lib/python3.12/dist-packages (from pandasql) (2.0.43)\n",
            "Requirement already satisfied: python-dateutil>=2.8.2 in /usr/local/lib/python3.12/dist-packages (from pandas->pandasql) (2.9.0.post0)\n",
            "Requirement already satisfied: pytz>=2020.1 in /usr/local/lib/python3.12/dist-packages (from pandas->pandasql) (2025.2)\n",
            "Requirement already satisfied: tzdata>=2022.7 in /usr/local/lib/python3.12/dist-packages (from pandas->pandasql) (2025.2)\n",
            "Requirement already satisfied: greenlet>=1 in /usr/local/lib/python3.12/dist-packages (from sqlalchemy->pandasql) (3.2.4)\n",
            "Requirement already satisfied: typing-extensions>=4.6.0 in /usr/local/lib/python3.12/dist-packages (from sqlalchemy->pandasql) (4.14.1)\n",
            "Requirement already satisfied: six>=1.5 in /usr/local/lib/python3.12/dist-packages (from python-dateutil>=2.8.2->pandas->pandasql) (1.17.0)\n"
          ]
        }
      ],
      "source": [
        "# install packages not already in colab\n",
        "!pip install pandasql"
      ]
    },
    {
      "cell_type": "code",
      "source": [
        "import pandas as pd # to read the files as a dataset\n",
        "import pandasql as pdsql # to query the files as sql. Makes it easy to quickly analyse data\n",
        "import numpy as np # easy calculation library"
      ],
      "metadata": {
        "id": "09XDIx5hm2JP"
      },
      "execution_count": 28,
      "outputs": []
    },
    {
      "cell_type": "code",
      "source": [
        "# read csv files into pandas dataframes\n",
        "messages = pd.read_csv('Messages.csv', header=0)\n",
        "threads = pd.read_csv('Threads.csv', header=0)\n",
        "users = pd.read_csv('User.csv', header=0)"
      ],
      "metadata": {
        "id": "c5V0Fch3ob7x"
      },
      "execution_count": 29,
      "outputs": []
    },
    {
      "cell_type": "code",
      "source": [
        "# Q1:The names and the number of messages sent by each user\n",
        "# Approach: This query shows every user, counts how many messages they’ve sent, even if it’s zero, and then lists them from the most active to the least.\n",
        "# Code:\n",
        "q1_1 = \"\"\"\n",
        "SELECT users.Name as name,\n",
        "COUNT(DISTINCT messages.MessageID) AS messages_sent\n",
        "FROM users\n",
        "LEFT JOIN messages ON messages.UserIDSender = users.UserID -- includes users who sent 0 messages\n",
        "GROUP BY users.Name\n",
        "ORDER BY messages_sent DESC\n",
        "\"\"\"\n",
        "print(\"The answer is ↓↓↓\")\n",
        "print(pdsql.sqldf(q1_1))"
      ],
      "metadata": {
        "colab": {
          "base_uri": "https://localhost:8080/"
        },
        "id": "BVk4jXPqomqX",
        "outputId": "208d9580-bbd5-44ad-b02b-a39e2d9b03dc"
      },
      "execution_count": 30,
      "outputs": [
        {
          "output_type": "stream",
          "name": "stdout",
          "text": [
            "The answer is ↓↓↓\n",
            "                name  messages_sent\n",
            "0        Alex Nguyen             30\n",
            "1          Sam Smith             27\n",
            "2        Brook Perez             27\n",
            "3       Arden Turner             27\n",
            "4      Blair Roberts             25\n",
            "5      Remy Campbell             24\n",
            "6       Hayden Young             24\n",
            "7    Finley Mitchell             22\n",
            "8       Jamie Martin             21\n",
            "9       Sawyer Baker             20\n",
            "10   Dakota Phillips             20\n",
            "11      Quinn Walker             19\n",
            "12       Logan Adams             19\n",
            "13    Riley Anderson             17\n",
            "14     Kendall Green             16\n",
            "15       Drew Wright             16\n",
            "16      Casey Wilson             16\n",
            "17       Sage Carter             14\n",
            "18      Emerson Hall             14\n",
            "19     Parker Harris             13\n",
            "20     Harper Nelson             13\n",
            "21       Reese Allen             12\n",
            "22     Morgan Taylor             12\n",
            "23       Rowan Lewis             11\n",
            "24        Taylor Lee             10\n",
            "25       Avery White             10\n",
            "26       Elliot King              9\n",
            "27      Skyler Scott              8\n",
            "28  Cameron Thompson              3\n",
            "29      Jordan Brown              2\n",
            "30   Mark Zuckerberg              0\n",
            "31    Bryan Cranston              0\n",
            "32        Bill Gates              0\n"
          ]
        }
      ]
    },
    {
      "cell_type": "code",
      "source": [
        "# Q2 The total number of messages sent stratified by weekday\n",
        "# Approach: This query counts how many messages were sent on each day of the week and labels them with the weekday name.\n",
        "# Code:\n",
        "q1_2 = \"\"\"\n",
        "SELECT strftime('%w', DateSent) AS day_of_week,\n",
        "CASE strftime('%w', DateSent)\n",
        "  WHEN '0' THEN 'Sun'\n",
        "  WHEN '1' THEN 'Mon'\n",
        "  WHEN '2' THEN 'Tue'\n",
        "  WHEN '3' THEN 'Wed'\n",
        "  WHEN '4' THEN 'Thu'\n",
        "  WHEN '5' THEN 'Fri'\n",
        "  WHEN '6' THEN 'Sat'\n",
        "END AS weekday_name, -- have to do it this way as SQLlite has no weekday function\n",
        "COUNT(DISTINCT MessageID) AS messages_sent\n",
        "FROM messages\n",
        "GROUP BY day_of_week\n",
        "ORDER BY CAST(day_of_week AS INTEGER) ASC\n",
        "\"\"\"\n",
        "print(\"The answer is ↓↓↓\")\n",
        "print(pdsql.sqldf(q1_2))"
      ],
      "metadata": {
        "colab": {
          "base_uri": "https://localhost:8080/"
        },
        "id": "sYXK2t9UspYD",
        "outputId": "0c6b3b21-b23b-425b-a319-9d6d5d9bce2b"
      },
      "execution_count": 31,
      "outputs": [
        {
          "output_type": "stream",
          "name": "stdout",
          "text": [
            "The answer is ↓↓↓\n",
            "  day_of_week weekday_name  messages_sent\n",
            "0           0          Sun             83\n",
            "1           1          Mon             85\n",
            "2           2          Tue            113\n",
            "3           3          Wed             78\n",
            "4           4          Thu             32\n",
            "5           5          Fri             61\n",
            "6           6          Sat             49\n"
          ]
        }
      ]
    },
    {
      "cell_type": "code",
      "source": [
        "# Q3: The most recent message from each thread that has no response yet\n",
        "# Approach:\n",
        "## Take every message in the system.\n",
        "## Try to find a later message in the same conversation (same thread) that was sent after it.\n",
        "## If a later message exists, keep track of it.\n",
        "## If no later message exists, that means the original message has no reply, so count it.\n",
        "## Sort the results by ThreadID.\n",
        "# Code\n",
        "q3 = \"\"\"\n",
        "SELECT\n",
        "  messages.ThreadID,\n",
        "  messages.MessageID,\n",
        "  messages.DateSent,\n",
        "  messages.UserIDSender,\n",
        "  messages.UserIDRecipient,\n",
        "  messages.MessageContent,\n",
        "  later.MessageID AS later_message_id,\n",
        "  later.MessageContent AS later_MessageContent\n",
        "FROM messages\n",
        "LEFT JOIN messages AS later -- left join to get later messages based on response\n",
        "  ON later.ThreadID = messages.ThreadID\n",
        " AND later.DateSent > messages.DateSent -- message must be later\n",
        "WHERE later.MessageID IS NULL\n",
        "--AND messages.ThreadID = 1000 -- for QA\n",
        "ORDER BY messages.ThreadID\n",
        "\"\"\"\n",
        "print(pdsql.sqldf(q3))"
      ],
      "metadata": {
        "colab": {
          "base_uri": "https://localhost:8080/"
        },
        "id": "n7o9oySteJFK",
        "outputId": "5b1b67f1-6c71-4e91-c9ed-abe6a546eba4"
      },
      "execution_count": 32,
      "outputs": [
        {
          "output_type": "stream",
          "name": "stdout",
          "text": [
            "    ThreadID  MessageID             DateSent  UserIDSender  UserIDRecipient  \\\n",
            "0       1000      50005  2025-08-10 18:36:00            18               22   \n",
            "1       1001      50012  2025-07-29 05:38:00            11                6   \n",
            "2       1002      50020  2025-07-24 17:02:00             3               19   \n",
            "3       1003      50026  2025-08-19 09:36:00            25               21   \n",
            "4       1004      50033  2025-07-31 03:12:00             2                1   \n",
            "5       1005      50037  2025-08-11 13:21:00             4                1   \n",
            "6       1006      50046  2025-07-26 07:49:00            26               18   \n",
            "7       1007      50056  2025-08-07 22:11:00            12                1   \n",
            "8       1008      50065  2025-08-16 14:59:00            27               25   \n",
            "9       1009      50074  2025-07-23 06:10:00             2               24   \n",
            "10      1010      50078  2025-08-13 10:57:00            28               11   \n",
            "11      1011      50090  2025-08-12 22:18:00             8               29   \n",
            "12      1012      50101  2025-07-28 13:58:00            25                7   \n",
            "13      1013      50109  2025-08-17 12:31:00            29               30   \n",
            "14      1014      50120  2025-08-02 09:21:00             8               30   \n",
            "15      1015      50129  2025-07-29 20:47:00            11               12   \n",
            "16      1016      50139  2025-07-30 23:21:00             6               30   \n",
            "17      1017      50148  2025-08-10 21:11:00            19               25   \n",
            "18      1018      50158  2025-08-01 10:25:00            16               22   \n",
            "19      1019      50171  2025-08-11 16:24:00            15               17   \n",
            "20      1020      50174  2025-08-09 23:26:00            16               22   \n",
            "21      1021      50181  2025-08-06 21:06:00            25                6   \n",
            "22      1022      50192  2025-08-05 21:29:00            20               15   \n",
            "23      1023      50195  2025-08-18 09:27:00             5               12   \n",
            "24      1024      50204  2025-07-21 10:26:00             2                8   \n",
            "25      1025      50212  2025-08-18 20:35:00            24               29   \n",
            "26      1026      50224  2025-07-22 17:42:00            12               24   \n",
            "27      1027      50236  2025-07-26 00:19:00             5               10   \n",
            "28      1028      50249  2025-08-19 16:17:00             7               13   \n",
            "29      1029      50261  2025-07-25 13:02:00            26                6   \n",
            "30      1030      50265  2025-08-03 14:35:00            23               15   \n",
            "31      1031      50278  2025-07-31 07:02:00            26               27   \n",
            "32      1032      50285  2025-08-18 18:18:00            26                1   \n",
            "33      1033      50294  2025-07-20 20:21:00            10               20   \n",
            "34      1034      50299  2025-07-28 03:18:00            11               28   \n",
            "35      1035      50313  2025-07-29 23:10:00            21               29   \n",
            "36      1036      50317  2025-07-25 12:08:00             2               12   \n",
            "37      1037      50327  2025-08-09 01:06:00             9               20   \n",
            "38      1038      50336  2025-07-29 01:05:00            30               27   \n",
            "39      1039      50349  2025-07-23 07:41:00            26               28   \n",
            "40      1040      50353  2025-08-01 03:53:00            21                2   \n",
            "41      1041      50362  2025-08-10 13:18:00            22                1   \n",
            "42      1042      50369  2025-08-10 02:46:00            19               23   \n",
            "43      1043      50380  2025-07-27 19:24:00            27               14   \n",
            "44      1044      50383  2025-08-14 00:39:00            12               17   \n",
            "45      1045      50393  2025-08-18 15:31:00            22               28   \n",
            "46      1046      50402  2025-08-06 00:09:00            16                1   \n",
            "47      1047      50411  2025-08-05 02:43:00             2               12   \n",
            "48      1048      50417  2025-07-22 11:54:00             5               13   \n",
            "49      1049      50423  2025-08-06 00:01:00            21               20   \n",
            "50      1050      50428  2025-08-08 14:52:00            12                2   \n",
            "51      1051      50440  2025-07-27 00:56:00             1               22   \n",
            "52      1052      50447  2025-08-15 15:56:00            28               23   \n",
            "53      1053      50455  2025-08-10 15:11:00            11               23   \n",
            "54      1054      50464  2025-08-13 16:18:00            30               21   \n",
            "55      1055      50471  2025-08-06 21:59:00             1               17   \n",
            "56      1056      50474  2025-08-10 22:31:00            23               11   \n",
            "57      1057      50481  2025-08-05 01:27:00            17               12   \n",
            "58      1058      50491  2025-08-03 16:36:00            28                3   \n",
            "59      1059      50500  2025-08-06 07:49:00            27               13   \n",
            "\n",
            "                       MessageContent later_message_id later_MessageContent  \n",
            "0                     Please confirm.             None                 None  \n",
            "1                 Any update on this?             None                 None  \n",
            "2                       Following up.             None                 None  \n",
            "3                       Following up.             None                 None  \n",
            "4                        Need a hand?             None                 None  \n",
            "5                           Hi there!             None                 None  \n",
            "6                     Please confirm.             None                 None  \n",
            "7                     Please confirm.             None                 None  \n",
            "8                        Need a hand?             None                 None  \n",
            "9                            All set.             None                 None  \n",
            "10              Following up on this.             None                 None  \n",
            "11                           All set.             None                 None  \n",
            "12                      Any thoughts?             None                 None  \n",
            "13                          Approved.             None                 None  \n",
            "14                      Following up.             None                 None  \n",
            "15             Sharing the quote now.             None                 None  \n",
            "16            What’s the budget like?             None                 None  \n",
            "17                      Following up.             None                 None  \n",
            "18                    Got it, thanks.             None                 None  \n",
            "19                  Just checking in.             None                 None  \n",
            "20                           All set.             None                 None  \n",
            "21                  Just checking in.             None                 None  \n",
            "22                           All set.             None                 None  \n",
            "23                              Ping?             None                 None  \n",
            "24                              Ping?             None                 None  \n",
            "25                          Hi there!             None                 None  \n",
            "26                    Got it, thanks.             None                 None  \n",
            "27                    Please confirm.             None                 None  \n",
            "28                          Hi there!             None                 None  \n",
            "29                When works for you?             None                 None  \n",
            "30                Any update on this?             None                 None  \n",
            "31  Let me check and get back to you.             None                 None  \n",
            "32                  Just checking in.             None                 None  \n",
            "33   Leaving this here for reference.             None                 None  \n",
            "34                     Appreciate it.             None                 None  \n",
            "35                  Just checking in.             None                 None  \n",
            "36                  Just checking in.             None                 None  \n",
            "37                          Approved.             None                 None  \n",
            "38  Let me check and get back to you.             None                 None  \n",
            "39                         On my way.             None                 None  \n",
            "40               Here are the photos.             None                 None  \n",
            "41                          Approved.             None                 None  \n",
            "42                    Got it, thanks.             None                 None  \n",
            "43                    Please confirm.             None                 None  \n",
            "44                           All set.             None                 None  \n",
            "45                      Thanks again.             None                 None  \n",
            "46                      Any thoughts?             None                 None  \n",
            "47                         On my way.             None                 None  \n",
            "48               Here are the photos.             None                 None  \n",
            "49  Let me check and get back to you.             None                 None  \n",
            "50                           All set.             None                 None  \n",
            "51                      Following up.             None                 None  \n",
            "52                         On my way.             None                 None  \n",
            "53              Following up on this.             None                 None  \n",
            "54                      Any thoughts?             None                 None  \n",
            "55                              Ping?             None                 None  \n",
            "56        Can you share more details?             None                 None  \n",
            "57                Any update on this?             None                 None  \n",
            "58                          Approved.             None                 None  \n",
            "59                          Approved.             None                 None  \n"
          ]
        }
      ]
    },
    {
      "cell_type": "code",
      "source": [
        "# Q4: For the conversation with the most messages: all user data and message contents ordered chronologically so one can follow the whole conversation\n",
        "# Approach:\n",
        "## Make a clean view of every message with who sent it and who got it (by joining to user names).\n",
        "## Find which thread has the most messages.\n",
        "## Number each message in a conversation from first to last using row number (oldest to newest).\n",
        "## Show only the most_messages conversation and list its messages in order.\n",
        "# Code\n",
        "q4 = \"\"\"\n",
        "WITH conversations AS (\n",
        "\tSELECT\n",
        "\t  messages.ThreadID,\n",
        "\t  messages.MessageID,\n",
        "\t  messages.DateSent,\n",
        "\t  sender.UserID AS sender_id,\n",
        "\t  sender.Name AS sender_name,\n",
        "\t  receiver.UserID AS receiver_id,\n",
        "\t  receiver.Name AS receiver_name,\n",
        "\t  messages.MessageContent\n",
        "\tFROM messages\n",
        "\tLEFT JOIN users sender ON sender.UserID = messages.UserIDSender\n",
        "\tLEFT JOIN users receiver ON receiver.UserID = messages.UserIDRecipient\n",
        "),\n",
        "most_messages AS (\n",
        "  SELECT ThreadID, COUNT(DISTINCT MessageID) AS cnt\n",
        "  FROM messages\n",
        "  GROUP BY 1\n",
        "  ORDER BY 2 DESC\n",
        "  LIMIT 1\n",
        ")\n",
        "SELECT *\n",
        "FROM (\n",
        "  SELECT *,\n",
        "  ROW_NUMBER() OVER (\n",
        "    PARTITION BY ThreadID ORDER BY DateSent ASC, MessageID ASC\n",
        "  ) AS rn\n",
        "  FROM conversations\n",
        ")\n",
        "WHERE ThreadID = (SELECT ThreadID FROM most_messages)\n",
        "ORDER BY rn ASC\n",
        "\n",
        "\n",
        "\"\"\"\n",
        "print(pdsql.sqldf(q4))"
      ],
      "metadata": {
        "colab": {
          "base_uri": "https://localhost:8080/"
        },
        "id": "jcgUVVQIg1Nh",
        "outputId": "03edd943-9f51-4509-c545-030346cfba20"
      },
      "execution_count": 33,
      "outputs": [
        {
          "output_type": "stream",
          "name": "stdout",
          "text": [
            "    ThreadID  MessageID             DateSent  sender_id      sender_name  \\\n",
            "0       1035      50300  2025-07-29 09:26:00         21     Sawyer Baker   \n",
            "1       1035      50301  2025-07-29 10:08:00         29  Dakota Phillips   \n",
            "2       1035      50302  2025-07-29 11:17:00         21     Sawyer Baker   \n",
            "3       1035      50303  2025-07-29 12:12:00         29  Dakota Phillips   \n",
            "4       1035      50304  2025-07-29 13:13:00         21     Sawyer Baker   \n",
            "5       1035      50305  2025-07-29 14:31:00         29  Dakota Phillips   \n",
            "6       1035      50306  2025-07-29 15:27:00         21     Sawyer Baker   \n",
            "7       1035      50307  2025-07-29 15:52:00         29  Dakota Phillips   \n",
            "8       1035      50308  2025-07-29 17:19:00         21     Sawyer Baker   \n",
            "9       1035      50309  2025-07-29 18:00:00         29  Dakota Phillips   \n",
            "10      1035      50310  2025-07-29 19:23:00         21     Sawyer Baker   \n",
            "11      1035      50311  2025-07-29 20:28:00         29  Dakota Phillips   \n",
            "12      1035      50312  2025-07-29 21:03:00         21     Sawyer Baker   \n",
            "13      1035      50313  2025-07-29 23:10:00         21     Sawyer Baker   \n",
            "\n",
            "    receiver_id    receiver_name                     MessageContent  rn  \n",
            "0            29  Dakota Phillips                          Hi there!   1  \n",
            "1            21     Sawyer Baker             Sharing the quote now.   2  \n",
            "2            29  Dakota Phillips                          Hi there!   3  \n",
            "3            21     Sawyer Baker                       Sounds good.   4  \n",
            "4            29  Dakota Phillips                Any update on this?   5  \n",
            "5            21     Sawyer Baker              Following up on this.   6  \n",
            "6            29  Dakota Phillips                       Sounds good.   7  \n",
            "7            21     Sawyer Baker                When works for you?   8  \n",
            "8            29  Dakota Phillips  Let me check and get back to you.   9  \n",
            "9            21     Sawyer Baker   Leaving this here for reference.  10  \n",
            "10           29  Dakota Phillips                When works for you?  11  \n",
            "11           21     Sawyer Baker             Sharing the quote now.  12  \n",
            "12           29  Dakota Phillips                When works for you?  13  \n",
            "13           29  Dakota Phillips                  Just checking in.  14  \n"
          ]
        }
      ]
    }
  ]
}